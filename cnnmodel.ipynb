{
 "cells": [
  {
   "cell_type": "markdown",
   "id": "protected-stack",
   "metadata": {},
   "source": [
    "@Author Arif YILMAZ, a.yilmaz@maastrichtuniversity.nl\n",
    "@repoaddress \"https://github.com/arifx/DeepDrugRepurposing\""
   ]
  },
  {
   "cell_type": "code",
   "execution_count": 5,
   "id": "surgical-excellence",
   "metadata": {},
   "outputs": [],
   "source": [
    "\n",
    "import pandas as pd\n",
    "import tensorflow as tf\n",
    "import numpy as np\n",
    "import matplotlib.pyplot as plt\n",
    "from sklearn.preprocessing import normalize\n",
    "from sklearn.model_selection import train_test_split\n",
    "from subprocess import check_output\n",
    "\n",
    "\n",
    "from tensorflow.keras.models import Sequential\n",
    "from tensorflow.keras.layers import Dense\n",
    "from tensorflow.keras.layers import Conv1D,Flatten,MaxPooling1D\n",
    "from tensorflow.python.keras.layers.pooling import MaxPool1D\n"
   ]
  },
  {
   "cell_type": "code",
   "execution_count": 6,
   "id": "prescription-undergraduate",
   "metadata": {},
   "outputs": [],
   "source": [
    "features= ['Feature_GO-SIM_HPO-SIM',\n",
    " 'Feature_GO-SIM_PHENO-SIM',\n",
    " 'Feature_PPI-SIM_HPO-SIM',\n",
    " 'Feature_PPI-SIM_PHENO-SIM',\n",
    " 'Feature_SE-SIM_HPO-SIM',\n",
    " 'Feature_SE-SIM_PHENO-SIM',\n",
    " 'Feature_TARGETSEQ-SIM_HPO-SIM',\n",
    " 'Feature_TARGETSEQ-SIM_PHENO-SIM',\n",
    " 'Feature_TC_HPO-SIM',\n",
    " 'Feature_TC_PHENO-SIM']\n",
    "outclass=['Class']"
   ]
  },
  {
   "cell_type": "code",
   "execution_count": 7,
   "id": "inclusive-dover",
   "metadata": {},
   "outputs": [],
   "source": [
    "deepdrug_dataset_df=pd.read_csv(\"deepdrug_repurposingpredictiondataset.csv\")\n",
    "Xdf= deepdrug_dataset_df[features]\n",
    "ydf=deepdrug_dataset_df[outclass]"
   ]
  },
  {
   "cell_type": "code",
   "execution_count": 8,
   "id": "junior-testament",
   "metadata": {},
   "outputs": [],
   "source": [
    "\n",
    "X = Xdf.to_numpy()\n",
    "Y = ydf.to_numpy()\n",
    "X_train_flatten = X#.reshape(X.shape[0],-1).T\n",
    "Y_train_flatten = Y#.reshape(Y.shape[0],-1).T\n"
   ]
  },
  {
   "cell_type": "code",
   "execution_count": 9,
   "id": "preliminary-symposium",
   "metadata": {},
   "outputs": [
    {
     "name": "stdout",
     "output_type": "stream",
     "text": [
      "No of training (X):(5013, 10)\n",
      "No of training (Y):(5013, 1)\n"
     ]
    }
   ],
   "source": [
    "\n",
    "\n",
    "XX_train_flatten = normalize(X_train_flatten)\n",
    "XX_train_flatten = np.expand_dims(XX_train_flatten, axis=2)\n",
    "YY_train_flatten = normalize(Y_train_flatten)\n",
    "X_train, X_test, y_train, y_test = train_test_split(\n",
    "  XX_train_flatten,\n",
    "  YY_train_flatten,\n",
    "  test_size=0.2\n",
    ")\n",
    "\n",
    "print(\"No of training (X):\"+str(X_train_flatten.shape))\n",
    "print(\"No of training (Y):\"+str(Y_train_flatten.shape))"
   ]
  },
  {
   "cell_type": "code",
   "execution_count": 10,
   "id": "acknowledged-stamp",
   "metadata": {},
   "outputs": [
    {
     "name": "stdout",
     "output_type": "stream",
     "text": [
      "No of training (X):(5013, 10)\n",
      "No of training (Y):(5013, 1)\n"
     ]
    }
   ],
   "source": [
    "\n",
    "print(\"No of training (X):\"+str(X_train_flatten.shape))\n",
    "print(\"No of training (Y):\"+str(Y_train_flatten.shape))\n"
   ]
  },
  {
   "cell_type": "code",
   "execution_count": 12,
   "id": "invisible-avatar",
   "metadata": {},
   "outputs": [],
   "source": [
    "\n",
    "model = Sequential([\n",
    "    Conv1D(32,2, activation='relu', input_shape=(10,1)),\n",
    "    Conv1D(32,2,activation='relu'),\n",
    "    Conv1D(32,2,activation='relu'),\n",
    "\n",
    "    Flatten(),\n",
    "    Dense(10, activation='relu') , \n",
    "    Dense(1, activation='hard_sigmoid'),\n",
    "])\n",
    "\n",
    "\n",
    "\n"
   ]
  },
  {
   "cell_type": "code",
   "execution_count": 13,
   "id": "fifteen-median",
   "metadata": {},
   "outputs": [],
   "source": [
    "\n",
    "model.compile(\n",
    "    optimizer='adam',\n",
    "    loss='binary_crossentropy',\n",
    "    metrics=['accuracy']\n",
    ")"
   ]
  },
  {
   "cell_type": "code",
   "execution_count": 14,
   "id": "dutch-wallet",
   "metadata": {},
   "outputs": [
    {
     "name": "stdout",
     "output_type": "stream",
     "text": [
      "Epoch 1/1000\n",
      "642/642 [==============================] - 1s 1ms/step - loss: 0.5550 - accuracy: 0.7422 - val_loss: 0.4737 - val_accuracy: 0.8416\n",
      "Epoch 2/1000\n",
      "642/642 [==============================] - 1s 887us/step - loss: 0.5023 - accuracy: 0.8217 - val_loss: 0.4476 - val_accuracy: 0.8441\n",
      "Epoch 3/1000\n",
      "642/642 [==============================] - 1s 914us/step - loss: 0.5053 - accuracy: 0.8239 - val_loss: 0.4619 - val_accuracy: 0.8466\n",
      "Epoch 4/1000\n",
      "642/642 [==============================] - 1s 912us/step - loss: 0.5026 - accuracy: 0.8214 - val_loss: 0.4584 - val_accuracy: 0.8466\n",
      "Epoch 5/1000\n",
      "642/642 [==============================] - 1s 882us/step - loss: 0.5172 - accuracy: 0.7852 - val_loss: 0.4418 - val_accuracy: 0.8416\n",
      "Epoch 6/1000\n",
      "642/642 [==============================] - 1s 880us/step - loss: 0.4400 - accuracy: 0.8198 - val_loss: 0.4101 - val_accuracy: 0.8441\n",
      "Epoch 7/1000\n",
      "642/642 [==============================] - 1s 890us/step - loss: 0.5263 - accuracy: 0.6936 - val_loss: 0.6392 - val_accuracy: 0.5948\n",
      "Epoch 8/1000\n",
      "642/642 [==============================] - 1s 893us/step - loss: 0.5173 - accuracy: 0.7890 - val_loss: 0.4085 - val_accuracy: 0.8441\n",
      "Epoch 9/1000\n",
      "642/642 [==============================] - 1s 906us/step - loss: 0.4320 - accuracy: 0.8211 - val_loss: 0.4124 - val_accuracy: 0.8367\n",
      "Epoch 10/1000\n",
      "642/642 [==============================] - 1s 913us/step - loss: 0.4327 - accuracy: 0.8223 - val_loss: 0.3935 - val_accuracy: 0.8454\n",
      "Epoch 11/1000\n",
      "642/642 [==============================] - 1s 926us/step - loss: 0.4869 - accuracy: 0.8061 - val_loss: 0.4109 - val_accuracy: 0.8454\n",
      "Epoch 12/1000\n",
      "642/642 [==============================] - 1s 921us/step - loss: 0.4202 - accuracy: 0.8239 - val_loss: 0.3888 - val_accuracy: 0.8454\n",
      "Epoch 13/1000\n",
      "642/642 [==============================] - 1s 939us/step - loss: 0.4464 - accuracy: 0.8214 - val_loss: 0.3872 - val_accuracy: 0.8454\n",
      "Epoch 14/1000\n",
      "642/642 [==============================] - 1s 921us/step - loss: 0.4104 - accuracy: 0.8220 - val_loss: 0.4170 - val_accuracy: 0.8416\n",
      "Epoch 15/1000\n",
      "642/642 [==============================] - 1s 919us/step - loss: 0.4039 - accuracy: 0.8242 - val_loss: 0.4099 - val_accuracy: 0.8504\n",
      "Epoch 16/1000\n",
      "642/642 [==============================] - 1s 921us/step - loss: 0.4276 - accuracy: 0.8233 - val_loss: 0.4340 - val_accuracy: 0.8454\n",
      "Epoch 17/1000\n",
      "642/642 [==============================] - 1s 915us/step - loss: 0.4555 - accuracy: 0.8251 - val_loss: 0.5253 - val_accuracy: 0.8454\n",
      "Epoch 18/1000\n",
      "642/642 [==============================] - 1s 933us/step - loss: 0.4405 - accuracy: 0.8289 - val_loss: 0.3722 - val_accuracy: 0.8454\n",
      "Epoch 19/1000\n",
      "642/642 [==============================] - 1s 941us/step - loss: 0.4229 - accuracy: 0.8254 - val_loss: 0.3887 - val_accuracy: 0.8491\n",
      "Epoch 20/1000\n",
      "642/642 [==============================] - 1s 945us/step - loss: 0.4209 - accuracy: 0.8264 - val_loss: 0.3992 - val_accuracy: 0.8441\n",
      "Epoch 21/1000\n",
      "642/642 [==============================] - 1s 958us/step - loss: 0.4111 - accuracy: 0.8292 - val_loss: 0.4064 - val_accuracy: 0.8529\n",
      "Epoch 22/1000\n",
      "642/642 [==============================] - 1s 934us/step - loss: 0.4124 - accuracy: 0.8286 - val_loss: 0.4036 - val_accuracy: 0.8516\n",
      "Epoch 23/1000\n",
      "642/642 [==============================] - 1s 945us/step - loss: 0.4155 - accuracy: 0.8261 - val_loss: 0.4109 - val_accuracy: 0.8491\n",
      "Epoch 24/1000\n",
      "642/642 [==============================] - 1s 946us/step - loss: 0.4427 - accuracy: 0.8130 - val_loss: 0.4394 - val_accuracy: 0.8441\n",
      "Epoch 25/1000\n",
      "642/642 [==============================] - 1s 942us/step - loss: 0.4263 - accuracy: 0.8220 - val_loss: 0.3883 - val_accuracy: 0.8529\n",
      "Epoch 26/1000\n",
      "642/642 [==============================] - 1s 931us/step - loss: 0.4394 - accuracy: 0.8067 - val_loss: 0.3860 - val_accuracy: 0.8541\n",
      "Epoch 27/1000\n",
      "642/642 [==============================] - 1s 928us/step - loss: 0.4120 - accuracy: 0.8239 - val_loss: 0.3939 - val_accuracy: 0.8516\n",
      "Epoch 28/1000\n",
      "642/642 [==============================] - 1s 933us/step - loss: 0.4203 - accuracy: 0.8326 - val_loss: 0.3942 - val_accuracy: 0.8579\n",
      "Epoch 29/1000\n",
      "642/642 [==============================] - 1s 931us/step - loss: 0.4333 - accuracy: 0.8264 - val_loss: 0.3745 - val_accuracy: 0.8466\n",
      "Epoch 30/1000\n",
      "642/642 [==============================] - 1s 941us/step - loss: 0.4186 - accuracy: 0.8329 - val_loss: 0.3979 - val_accuracy: 0.8554\n",
      "Epoch 31/1000\n",
      "642/642 [==============================] - 1s 942us/step - loss: 0.4024 - accuracy: 0.8351 - val_loss: 0.3755 - val_accuracy: 0.8466\n",
      "Epoch 32/1000\n",
      "642/642 [==============================] - 1s 953us/step - loss: 0.4115 - accuracy: 0.8354 - val_loss: 0.3842 - val_accuracy: 0.8628\n",
      "Epoch 33/1000\n",
      "642/642 [==============================] - 1s 979us/step - loss: 0.4460 - accuracy: 0.8105 - val_loss: 0.4017 - val_accuracy: 0.8404\n",
      "Epoch 34/1000\n",
      "642/642 [==============================] - 1s 1ms/step - loss: 0.4158 - accuracy: 0.8261 - val_loss: 0.3982 - val_accuracy: 0.8529\n",
      "Epoch 35/1000\n",
      "642/642 [==============================] - 1s 931us/step - loss: 0.4212 - accuracy: 0.8254 - val_loss: 0.4361 - val_accuracy: 0.8479\n",
      "Epoch 36/1000\n",
      "642/642 [==============================] - 1s 924us/step - loss: 0.4127 - accuracy: 0.8317 - val_loss: 0.4088 - val_accuracy: 0.8541\n",
      "Epoch 37/1000\n",
      "642/642 [==============================] - 1s 927us/step - loss: 0.4046 - accuracy: 0.8335 - val_loss: 0.4364 - val_accuracy: 0.8192\n",
      "Epoch 38/1000\n",
      "642/642 [==============================] - 1s 917us/step - loss: 0.3945 - accuracy: 0.8320 - val_loss: 0.3959 - val_accuracy: 0.8566\n",
      "Epoch 39/1000\n",
      "642/642 [==============================] - 1s 920us/step - loss: 0.3978 - accuracy: 0.8348 - val_loss: 0.4188 - val_accuracy: 0.8491\n",
      "Epoch 40/1000\n",
      "642/642 [==============================] - 1s 941us/step - loss: 0.4541 - accuracy: 0.7918 - val_loss: 0.5141 - val_accuracy: 0.8504\n",
      "Epoch 41/1000\n",
      "642/642 [==============================] - 1s 990us/step - loss: 0.3971 - accuracy: 0.8339 - val_loss: 0.3813 - val_accuracy: 0.8566\n",
      "Epoch 42/1000\n",
      "642/642 [==============================] - 1s 941us/step - loss: 0.3856 - accuracy: 0.8363 - val_loss: 0.4285 - val_accuracy: 0.8603\n",
      "Epoch 43/1000\n",
      "642/642 [==============================] - 1s 931us/step - loss: 0.3962 - accuracy: 0.8401 - val_loss: 0.3866 - val_accuracy: 0.8603\n",
      "Epoch 44/1000\n",
      "642/642 [==============================] - 1s 945us/step - loss: 0.3953 - accuracy: 0.8413 - val_loss: 0.4446 - val_accuracy: 0.8641\n",
      "Epoch 45/1000\n",
      "642/642 [==============================] - 1s 915us/step - loss: 0.3802 - accuracy: 0.8404 - val_loss: 0.4354 - val_accuracy: 0.8416\n",
      "Epoch 46/1000\n",
      "642/642 [==============================] - 1s 926us/step - loss: 0.3906 - accuracy: 0.8463 - val_loss: 0.4055 - val_accuracy: 0.8516\n",
      "Epoch 47/1000\n",
      "642/642 [==============================] - 1s 914us/step - loss: 0.4085 - accuracy: 0.8379 - val_loss: 0.3878 - val_accuracy: 0.8491\n",
      "Epoch 48/1000\n",
      "642/642 [==============================] - 1s 939us/step - loss: 0.3989 - accuracy: 0.8404 - val_loss: 0.3661 - val_accuracy: 0.8541\n",
      "Epoch 49/1000\n",
      "642/642 [==============================] - 1s 990us/step - loss: 0.3977 - accuracy: 0.8360 - val_loss: 0.3798 - val_accuracy: 0.8491\n",
      "Epoch 50/1000\n",
      "642/642 [==============================] - 1s 954us/step - loss: 0.3813 - accuracy: 0.8457 - val_loss: 0.3778 - val_accuracy: 0.8603\n",
      "Epoch 51/1000\n",
      "642/642 [==============================] - 1s 933us/step - loss: 0.3894 - accuracy: 0.8491 - val_loss: 0.3829 - val_accuracy: 0.8579\n",
      "Epoch 52/1000\n",
      "642/642 [==============================] - 1s 916us/step - loss: 0.3959 - accuracy: 0.8460 - val_loss: 0.3735 - val_accuracy: 0.8603\n",
      "Epoch 53/1000\n",
      "642/642 [==============================] - 1s 950us/step - loss: 0.3981 - accuracy: 0.8438 - val_loss: 0.4077 - val_accuracy: 0.8653\n",
      "Epoch 54/1000\n",
      "642/642 [==============================] - 1s 959us/step - loss: 0.3838 - accuracy: 0.8445 - val_loss: 0.4001 - val_accuracy: 0.8554\n",
      "Epoch 55/1000\n",
      "642/642 [==============================] - 1s 933us/step - loss: 0.3963 - accuracy: 0.8438 - val_loss: 0.4054 - val_accuracy: 0.8516\n",
      "Epoch 56/1000\n",
      "642/642 [==============================] - 1s 939us/step - loss: 0.4048 - accuracy: 0.8426 - val_loss: 0.4005 - val_accuracy: 0.8554\n"
     ]
    },
    {
     "name": "stdout",
     "output_type": "stream",
     "text": [
      "Epoch 57/1000\n",
      "642/642 [==============================] - 1s 927us/step - loss: 0.4159 - accuracy: 0.8335 - val_loss: 0.5854 - val_accuracy: 0.8080\n",
      "Epoch 58/1000\n",
      "642/642 [==============================] - 1s 932us/step - loss: 0.4645 - accuracy: 0.8307 - val_loss: 0.4002 - val_accuracy: 0.8591\n",
      "Epoch 59/1000\n",
      "642/642 [==============================] - 1s 962us/step - loss: 0.3775 - accuracy: 0.8382 - val_loss: 0.3914 - val_accuracy: 0.8579\n",
      "Epoch 60/1000\n",
      "642/642 [==============================] - 1s 932us/step - loss: 0.3798 - accuracy: 0.8457 - val_loss: 0.4058 - val_accuracy: 0.8591\n",
      "Epoch 61/1000\n",
      "642/642 [==============================] - 1s 923us/step - loss: 0.3748 - accuracy: 0.8460 - val_loss: 0.4024 - val_accuracy: 0.8491\n",
      "Epoch 62/1000\n",
      "642/642 [==============================] - 1s 928us/step - loss: 0.3663 - accuracy: 0.8510 - val_loss: 0.3820 - val_accuracy: 0.8566\n",
      "Epoch 63/1000\n",
      "642/642 [==============================] - 1s 931us/step - loss: 0.3900 - accuracy: 0.8320 - val_loss: 0.3981 - val_accuracy: 0.8491\n",
      "Epoch 64/1000\n",
      "642/642 [==============================] - 1s 955us/step - loss: 0.3719 - accuracy: 0.8482 - val_loss: 0.3779 - val_accuracy: 0.8653\n",
      "Epoch 65/1000\n",
      "642/642 [==============================] - 1s 957us/step - loss: 0.3789 - accuracy: 0.8494 - val_loss: 0.4502 - val_accuracy: 0.8628\n",
      "Epoch 66/1000\n",
      "  1/642 [..............................] - ETA: 0s - loss: 0.4648 - accuracy: 0.8000"
     ]
    },
    {
     "ename": "KeyboardInterrupt",
     "evalue": "",
     "output_type": "error",
     "traceback": [
      "\u001b[0;31m---------------------------------------------------------------------------\u001b[0m",
      "\u001b[0;31mKeyboardInterrupt\u001b[0m                         Traceback (most recent call last)",
      "\u001b[0;32m<ipython-input-14-a03dfa4d3c79>\u001b[0m in \u001b[0;36m<module>\u001b[0;34m\u001b[0m\n\u001b[0;32m----> 1\u001b[0;31m history = model.fit(X_train, y_train,\n\u001b[0m\u001b[1;32m      2\u001b[0m                     \u001b[0mbatch_size\u001b[0m\u001b[0;34m=\u001b[0m \u001b[0;36m5\u001b[0m\u001b[0;34m,\u001b[0m\u001b[0;34m\u001b[0m\u001b[0;34m\u001b[0m\u001b[0m\n\u001b[1;32m      3\u001b[0m                     \u001b[0mepochs\u001b[0m\u001b[0;34m=\u001b[0m \u001b[0;36m1000\u001b[0m\u001b[0;34m,\u001b[0m\u001b[0;34m\u001b[0m\u001b[0;34m\u001b[0m\u001b[0m\n\u001b[1;32m      4\u001b[0m                     \u001b[0mvalidation_split\u001b[0m\u001b[0;34m=\u001b[0m\u001b[0;36m0.2\u001b[0m\u001b[0;34m\u001b[0m\u001b[0;34m\u001b[0m\u001b[0m\n\u001b[1;32m      5\u001b[0m                    )\n",
      "\u001b[0;32m~/work/PREDICT/OPVENV/lib/python3.8/site-packages/tensorflow/python/keras/engine/training.py\u001b[0m in \u001b[0;36m_method_wrapper\u001b[0;34m(self, *args, **kwargs)\u001b[0m\n\u001b[1;32m    106\u001b[0m   \u001b[0;32mdef\u001b[0m \u001b[0m_method_wrapper\u001b[0m\u001b[0;34m(\u001b[0m\u001b[0mself\u001b[0m\u001b[0;34m,\u001b[0m \u001b[0;34m*\u001b[0m\u001b[0margs\u001b[0m\u001b[0;34m,\u001b[0m \u001b[0;34m**\u001b[0m\u001b[0mkwargs\u001b[0m\u001b[0;34m)\u001b[0m\u001b[0;34m:\u001b[0m\u001b[0;34m\u001b[0m\u001b[0;34m\u001b[0m\u001b[0m\n\u001b[1;32m    107\u001b[0m     \u001b[0;32mif\u001b[0m \u001b[0;32mnot\u001b[0m \u001b[0mself\u001b[0m\u001b[0;34m.\u001b[0m\u001b[0m_in_multi_worker_mode\u001b[0m\u001b[0;34m(\u001b[0m\u001b[0;34m)\u001b[0m\u001b[0;34m:\u001b[0m  \u001b[0;31m# pylint: disable=protected-access\u001b[0m\u001b[0;34m\u001b[0m\u001b[0;34m\u001b[0m\u001b[0m\n\u001b[0;32m--> 108\u001b[0;31m       \u001b[0;32mreturn\u001b[0m \u001b[0mmethod\u001b[0m\u001b[0;34m(\u001b[0m\u001b[0mself\u001b[0m\u001b[0;34m,\u001b[0m \u001b[0;34m*\u001b[0m\u001b[0margs\u001b[0m\u001b[0;34m,\u001b[0m \u001b[0;34m**\u001b[0m\u001b[0mkwargs\u001b[0m\u001b[0;34m)\u001b[0m\u001b[0;34m\u001b[0m\u001b[0;34m\u001b[0m\u001b[0m\n\u001b[0m\u001b[1;32m    109\u001b[0m \u001b[0;34m\u001b[0m\u001b[0m\n\u001b[1;32m    110\u001b[0m     \u001b[0;31m# Running inside `run_distribute_coordinator` already.\u001b[0m\u001b[0;34m\u001b[0m\u001b[0;34m\u001b[0m\u001b[0;34m\u001b[0m\u001b[0m\n",
      "\u001b[0;32m~/work/PREDICT/OPVENV/lib/python3.8/site-packages/tensorflow/python/keras/engine/training.py\u001b[0m in \u001b[0;36mfit\u001b[0;34m(self, x, y, batch_size, epochs, verbose, callbacks, validation_split, validation_data, shuffle, class_weight, sample_weight, initial_epoch, steps_per_epoch, validation_steps, validation_batch_size, validation_freq, max_queue_size, workers, use_multiprocessing)\u001b[0m\n\u001b[1;32m   1096\u001b[0m                 batch_size=batch_size):\n\u001b[1;32m   1097\u001b[0m               \u001b[0mcallbacks\u001b[0m\u001b[0;34m.\u001b[0m\u001b[0mon_train_batch_begin\u001b[0m\u001b[0;34m(\u001b[0m\u001b[0mstep\u001b[0m\u001b[0;34m)\u001b[0m\u001b[0;34m\u001b[0m\u001b[0;34m\u001b[0m\u001b[0m\n\u001b[0;32m-> 1098\u001b[0;31m               \u001b[0mtmp_logs\u001b[0m \u001b[0;34m=\u001b[0m \u001b[0mtrain_function\u001b[0m\u001b[0;34m(\u001b[0m\u001b[0miterator\u001b[0m\u001b[0;34m)\u001b[0m\u001b[0;34m\u001b[0m\u001b[0;34m\u001b[0m\u001b[0m\n\u001b[0m\u001b[1;32m   1099\u001b[0m               \u001b[0;32mif\u001b[0m \u001b[0mdata_handler\u001b[0m\u001b[0;34m.\u001b[0m\u001b[0mshould_sync\u001b[0m\u001b[0;34m:\u001b[0m\u001b[0;34m\u001b[0m\u001b[0;34m\u001b[0m\u001b[0m\n\u001b[1;32m   1100\u001b[0m                 \u001b[0mcontext\u001b[0m\u001b[0;34m.\u001b[0m\u001b[0masync_wait\u001b[0m\u001b[0;34m(\u001b[0m\u001b[0;34m)\u001b[0m\u001b[0;34m\u001b[0m\u001b[0;34m\u001b[0m\u001b[0m\n",
      "\u001b[0;32m~/work/PREDICT/OPVENV/lib/python3.8/site-packages/tensorflow/python/eager/def_function.py\u001b[0m in \u001b[0;36m__call__\u001b[0;34m(self, *args, **kwds)\u001b[0m\n\u001b[1;32m    778\u001b[0m       \u001b[0;32melse\u001b[0m\u001b[0;34m:\u001b[0m\u001b[0;34m\u001b[0m\u001b[0;34m\u001b[0m\u001b[0m\n\u001b[1;32m    779\u001b[0m         \u001b[0mcompiler\u001b[0m \u001b[0;34m=\u001b[0m \u001b[0;34m\"nonXla\"\u001b[0m\u001b[0;34m\u001b[0m\u001b[0;34m\u001b[0m\u001b[0m\n\u001b[0;32m--> 780\u001b[0;31m         \u001b[0mresult\u001b[0m \u001b[0;34m=\u001b[0m \u001b[0mself\u001b[0m\u001b[0;34m.\u001b[0m\u001b[0m_call\u001b[0m\u001b[0;34m(\u001b[0m\u001b[0;34m*\u001b[0m\u001b[0margs\u001b[0m\u001b[0;34m,\u001b[0m \u001b[0;34m**\u001b[0m\u001b[0mkwds\u001b[0m\u001b[0;34m)\u001b[0m\u001b[0;34m\u001b[0m\u001b[0;34m\u001b[0m\u001b[0m\n\u001b[0m\u001b[1;32m    781\u001b[0m \u001b[0;34m\u001b[0m\u001b[0m\n\u001b[1;32m    782\u001b[0m       \u001b[0mnew_tracing_count\u001b[0m \u001b[0;34m=\u001b[0m \u001b[0mself\u001b[0m\u001b[0;34m.\u001b[0m\u001b[0m_get_tracing_count\u001b[0m\u001b[0;34m(\u001b[0m\u001b[0;34m)\u001b[0m\u001b[0;34m\u001b[0m\u001b[0;34m\u001b[0m\u001b[0m\n",
      "\u001b[0;32m~/work/PREDICT/OPVENV/lib/python3.8/site-packages/tensorflow/python/eager/def_function.py\u001b[0m in \u001b[0;36m_call\u001b[0;34m(self, *args, **kwds)\u001b[0m\n\u001b[1;32m    805\u001b[0m       \u001b[0;31m# In this case we have created variables on the first call, so we run the\u001b[0m\u001b[0;34m\u001b[0m\u001b[0;34m\u001b[0m\u001b[0;34m\u001b[0m\u001b[0m\n\u001b[1;32m    806\u001b[0m       \u001b[0;31m# defunned version which is guaranteed to never create variables.\u001b[0m\u001b[0;34m\u001b[0m\u001b[0;34m\u001b[0m\u001b[0;34m\u001b[0m\u001b[0m\n\u001b[0;32m--> 807\u001b[0;31m       \u001b[0;32mreturn\u001b[0m \u001b[0mself\u001b[0m\u001b[0;34m.\u001b[0m\u001b[0m_stateless_fn\u001b[0m\u001b[0;34m(\u001b[0m\u001b[0;34m*\u001b[0m\u001b[0margs\u001b[0m\u001b[0;34m,\u001b[0m \u001b[0;34m**\u001b[0m\u001b[0mkwds\u001b[0m\u001b[0;34m)\u001b[0m  \u001b[0;31m# pylint: disable=not-callable\u001b[0m\u001b[0;34m\u001b[0m\u001b[0;34m\u001b[0m\u001b[0m\n\u001b[0m\u001b[1;32m    808\u001b[0m     \u001b[0;32melif\u001b[0m \u001b[0mself\u001b[0m\u001b[0;34m.\u001b[0m\u001b[0m_stateful_fn\u001b[0m \u001b[0;32mis\u001b[0m \u001b[0;32mnot\u001b[0m \u001b[0;32mNone\u001b[0m\u001b[0;34m:\u001b[0m\u001b[0;34m\u001b[0m\u001b[0;34m\u001b[0m\u001b[0m\n\u001b[1;32m    809\u001b[0m       \u001b[0;31m# Release the lock early so that multiple threads can perform the call\u001b[0m\u001b[0;34m\u001b[0m\u001b[0;34m\u001b[0m\u001b[0;34m\u001b[0m\u001b[0m\n",
      "\u001b[0;32m~/work/PREDICT/OPVENV/lib/python3.8/site-packages/tensorflow/python/eager/function.py\u001b[0m in \u001b[0;36m__call__\u001b[0;34m(self, *args, **kwargs)\u001b[0m\n\u001b[1;32m   2827\u001b[0m     \u001b[0;32mwith\u001b[0m \u001b[0mself\u001b[0m\u001b[0;34m.\u001b[0m\u001b[0m_lock\u001b[0m\u001b[0;34m:\u001b[0m\u001b[0;34m\u001b[0m\u001b[0;34m\u001b[0m\u001b[0m\n\u001b[1;32m   2828\u001b[0m       \u001b[0mgraph_function\u001b[0m\u001b[0;34m,\u001b[0m \u001b[0margs\u001b[0m\u001b[0;34m,\u001b[0m \u001b[0mkwargs\u001b[0m \u001b[0;34m=\u001b[0m \u001b[0mself\u001b[0m\u001b[0;34m.\u001b[0m\u001b[0m_maybe_define_function\u001b[0m\u001b[0;34m(\u001b[0m\u001b[0margs\u001b[0m\u001b[0;34m,\u001b[0m \u001b[0mkwargs\u001b[0m\u001b[0;34m)\u001b[0m\u001b[0;34m\u001b[0m\u001b[0;34m\u001b[0m\u001b[0m\n\u001b[0;32m-> 2829\u001b[0;31m     \u001b[0;32mreturn\u001b[0m \u001b[0mgraph_function\u001b[0m\u001b[0;34m.\u001b[0m\u001b[0m_filtered_call\u001b[0m\u001b[0;34m(\u001b[0m\u001b[0margs\u001b[0m\u001b[0;34m,\u001b[0m \u001b[0mkwargs\u001b[0m\u001b[0;34m)\u001b[0m  \u001b[0;31m# pylint: disable=protected-access\u001b[0m\u001b[0;34m\u001b[0m\u001b[0;34m\u001b[0m\u001b[0m\n\u001b[0m\u001b[1;32m   2830\u001b[0m \u001b[0;34m\u001b[0m\u001b[0m\n\u001b[1;32m   2831\u001b[0m   \u001b[0;34m@\u001b[0m\u001b[0mproperty\u001b[0m\u001b[0;34m\u001b[0m\u001b[0;34m\u001b[0m\u001b[0m\n",
      "\u001b[0;32m~/work/PREDICT/OPVENV/lib/python3.8/site-packages/tensorflow/python/eager/function.py\u001b[0m in \u001b[0;36m_filtered_call\u001b[0;34m(self, args, kwargs, cancellation_manager)\u001b[0m\n\u001b[1;32m   1841\u001b[0m       \u001b[0;31m`\u001b[0m\u001b[0margs\u001b[0m\u001b[0;31m`\u001b[0m \u001b[0;32mand\u001b[0m\u001b[0;31m \u001b[0m\u001b[0;31m`\u001b[0m\u001b[0mkwargs\u001b[0m\u001b[0;31m`\u001b[0m\u001b[0;34m.\u001b[0m\u001b[0;34m\u001b[0m\u001b[0;34m\u001b[0m\u001b[0m\n\u001b[1;32m   1842\u001b[0m     \"\"\"\n\u001b[0;32m-> 1843\u001b[0;31m     return self._call_flat(\n\u001b[0m\u001b[1;32m   1844\u001b[0m         [t for t in nest.flatten((args, kwargs), expand_composites=True)\n\u001b[1;32m   1845\u001b[0m          if isinstance(t, (ops.Tensor,\n",
      "\u001b[0;32m~/work/PREDICT/OPVENV/lib/python3.8/site-packages/tensorflow/python/eager/function.py\u001b[0m in \u001b[0;36m_call_flat\u001b[0;34m(self, args, captured_inputs, cancellation_manager)\u001b[0m\n\u001b[1;32m   1921\u001b[0m         and executing_eagerly):\n\u001b[1;32m   1922\u001b[0m       \u001b[0;31m# No tape is watching; skip to running the function.\u001b[0m\u001b[0;34m\u001b[0m\u001b[0;34m\u001b[0m\u001b[0;34m\u001b[0m\u001b[0m\n\u001b[0;32m-> 1923\u001b[0;31m       return self._build_call_outputs(self._inference_function.call(\n\u001b[0m\u001b[1;32m   1924\u001b[0m           ctx, args, cancellation_manager=cancellation_manager))\n\u001b[1;32m   1925\u001b[0m     forward_backward = self._select_forward_and_backward_functions(\n",
      "\u001b[0;32m~/work/PREDICT/OPVENV/lib/python3.8/site-packages/tensorflow/python/eager/function.py\u001b[0m in \u001b[0;36mcall\u001b[0;34m(self, ctx, args, cancellation_manager)\u001b[0m\n\u001b[1;32m    543\u001b[0m       \u001b[0;32mwith\u001b[0m \u001b[0m_InterpolateFunctionError\u001b[0m\u001b[0;34m(\u001b[0m\u001b[0mself\u001b[0m\u001b[0;34m)\u001b[0m\u001b[0;34m:\u001b[0m\u001b[0;34m\u001b[0m\u001b[0;34m\u001b[0m\u001b[0m\n\u001b[1;32m    544\u001b[0m         \u001b[0;32mif\u001b[0m \u001b[0mcancellation_manager\u001b[0m \u001b[0;32mis\u001b[0m \u001b[0;32mNone\u001b[0m\u001b[0;34m:\u001b[0m\u001b[0;34m\u001b[0m\u001b[0;34m\u001b[0m\u001b[0m\n\u001b[0;32m--> 545\u001b[0;31m           outputs = execute.execute(\n\u001b[0m\u001b[1;32m    546\u001b[0m               \u001b[0mstr\u001b[0m\u001b[0;34m(\u001b[0m\u001b[0mself\u001b[0m\u001b[0;34m.\u001b[0m\u001b[0msignature\u001b[0m\u001b[0;34m.\u001b[0m\u001b[0mname\u001b[0m\u001b[0;34m)\u001b[0m\u001b[0;34m,\u001b[0m\u001b[0;34m\u001b[0m\u001b[0;34m\u001b[0m\u001b[0m\n\u001b[1;32m    547\u001b[0m               \u001b[0mnum_outputs\u001b[0m\u001b[0;34m=\u001b[0m\u001b[0mself\u001b[0m\u001b[0;34m.\u001b[0m\u001b[0m_num_outputs\u001b[0m\u001b[0;34m,\u001b[0m\u001b[0;34m\u001b[0m\u001b[0;34m\u001b[0m\u001b[0m\n",
      "\u001b[0;32m~/work/PREDICT/OPVENV/lib/python3.8/site-packages/tensorflow/python/eager/execute.py\u001b[0m in \u001b[0;36mquick_execute\u001b[0;34m(op_name, num_outputs, inputs, attrs, ctx, name)\u001b[0m\n\u001b[1;32m     57\u001b[0m   \u001b[0;32mtry\u001b[0m\u001b[0;34m:\u001b[0m\u001b[0;34m\u001b[0m\u001b[0;34m\u001b[0m\u001b[0m\n\u001b[1;32m     58\u001b[0m     \u001b[0mctx\u001b[0m\u001b[0;34m.\u001b[0m\u001b[0mensure_initialized\u001b[0m\u001b[0;34m(\u001b[0m\u001b[0;34m)\u001b[0m\u001b[0;34m\u001b[0m\u001b[0;34m\u001b[0m\u001b[0m\n\u001b[0;32m---> 59\u001b[0;31m     tensors = pywrap_tfe.TFE_Py_Execute(ctx._handle, device_name, op_name,\n\u001b[0m\u001b[1;32m     60\u001b[0m                                         inputs, attrs, num_outputs)\n\u001b[1;32m     61\u001b[0m   \u001b[0;32mexcept\u001b[0m \u001b[0mcore\u001b[0m\u001b[0;34m.\u001b[0m\u001b[0m_NotOkStatusException\u001b[0m \u001b[0;32mas\u001b[0m \u001b[0me\u001b[0m\u001b[0;34m:\u001b[0m\u001b[0;34m\u001b[0m\u001b[0;34m\u001b[0m\u001b[0m\n",
      "\u001b[0;31mKeyboardInterrupt\u001b[0m: "
     ]
    }
   ],
   "source": [
    "\n",
    "history = model.fit(X_train, y_train,\n",
    "                    batch_size= 5,\n",
    "                    epochs= 1000,\n",
    "                    validation_split=0.2\n",
    "                   )\n",
    "\n",
    "\n",
    "model.evaluate(x = X_test, y = y_test)\n",
    "pass"
   ]
  },
  {
   "cell_type": "code",
   "execution_count": 4,
   "id": "respective-reference",
   "metadata": {},
   "outputs": [
    {
     "ename": "NameError",
     "evalue": "name 'model' is not defined",
     "output_type": "error",
     "traceback": [
      "\u001b[0;31m---------------------------------------------------------------------------\u001b[0m",
      "\u001b[0;31mNameError\u001b[0m                                 Traceback (most recent call last)",
      "\u001b[0;32m<ipython-input-4-b10180ba465a>\u001b[0m in \u001b[0;36m<module>\u001b[0;34m\u001b[0m\n\u001b[0;32m----> 1\u001b[0;31m \u001b[0mmodel\u001b[0m\u001b[0;34m.\u001b[0m\u001b[0mevaluate\u001b[0m\u001b[0;34m(\u001b[0m\u001b[0mx\u001b[0m \u001b[0;34m=\u001b[0m \u001b[0mX_test\u001b[0m\u001b[0;34m,\u001b[0m \u001b[0my\u001b[0m \u001b[0;34m=\u001b[0m \u001b[0my_test\u001b[0m\u001b[0;34m)\u001b[0m\u001b[0;34m\u001b[0m\u001b[0;34m\u001b[0m\u001b[0m\n\u001b[0m",
      "\u001b[0;31mNameError\u001b[0m: name 'model' is not defined"
     ]
    }
   ],
   "source": [
    "\n",
    "model.evaluate(x = X_test, y = y_test)"
   ]
  },
  {
   "cell_type": "code",
   "execution_count": null,
   "id": "superb-solid",
   "metadata": {},
   "outputs": [],
   "source": []
  },
  {
   "cell_type": "code",
   "execution_count": null,
   "id": "renewable-lecture",
   "metadata": {},
   "outputs": [],
   "source": []
  },
  {
   "cell_type": "code",
   "execution_count": null,
   "id": "accurate-bookmark",
   "metadata": {},
   "outputs": [],
   "source": []
  },
  {
   "cell_type": "code",
   "execution_count": null,
   "id": "binding-organ",
   "metadata": {},
   "outputs": [],
   "source": []
  },
  {
   "cell_type": "markdown",
   "id": "adopted-layout",
   "metadata": {},
   "source": [
    "@Author Arif YILMAZ, a.yilmaz@maastrichtuniversity.nl @repoaddress \"https://github.com/arifx/DeepDrugRepurposing\""
   ]
  }
 ],
 "metadata": {
  "kernelspec": {
   "display_name": "Python 3",
   "language": "python",
   "name": "python3"
  },
  "language_info": {
   "codemirror_mode": {
    "name": "ipython",
    "version": 3
   },
   "file_extension": ".py",
   "mimetype": "text/x-python",
   "name": "python",
   "nbconvert_exporter": "python",
   "pygments_lexer": "ipython3",
   "version": "3.8.2"
  }
 },
 "nbformat": 4,
 "nbformat_minor": 5
}
